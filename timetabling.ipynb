{
 "nbformat": 4,
 "nbformat_minor": 0,
 "metadata": {
  "colab": {
   "provenance": []
  },
  "kernelspec": {
   "name": "python3",
   "display_name": "Python 3"
  },
  "language_info": {
   "name": "python"
  }
 },
 "cells": [
  {
   "cell_type": "code",
   "execution_count": null,
   "metadata": {
    "id": "HUZZB8nQbysE",
    "pycharm": {
     "name": "#%%\n"
    }
   },
   "outputs": [],
   "source": [
    "import pandas as pd\n",
    "import numpy as np"
   ]
  },
  {
   "cell_type": "code",
   "source": [
    "dataset =  pd.read_csv('course.csv', header=None)"
   ],
   "metadata": {
    "id": "buXGZe-wb4Ds",
    "pycharm": {
     "name": "#%%\n"
    }
   },
   "execution_count": null,
   "outputs": []
  },
  {
   "cell_type": "code",
   "source": [
    "dataset.head()"
   ],
   "metadata": {
    "colab": {
     "base_uri": "https://localhost:8080/",
     "height": 206
    },
    "id": "VO7qPrNicD_9",
    "outputId": "53fe0671-f5cd-40c9-bb80-dcb5ab96c0c2",
    "pycharm": {
     "name": "#%%\n"
    }
   },
   "execution_count": null,
   "outputs": []
  },
  {
   "cell_type": "code",
   "source": [
    "number_of_timeslot =int(dataset[0][0])\n",
    "print(number_of_timeslot)"
   ],
   "metadata": {
    "colab": {
     "base_uri": "https://localhost:8080/"
    },
    "id": "M6wMF-_GWGfu",
    "outputId": "dfa2fa63-47a4-40a5-8942-8d0457e931cb",
    "pycharm": {
     "name": "#%%\n"
    }
   },
   "execution_count": null,
   "outputs": []
  },
  {
   "cell_type": "code",
   "source": [
    "number_of_rooms = dataset[1][0]\n",
    "print(number_of_rooms)"
   ],
   "metadata": {
    "colab": {
     "base_uri": "https://localhost:8080/"
    },
    "id": "S_0dFfb9WTcj",
    "outputId": "6324944b-ec37-4f86-9686-a4431ff9bbc6",
    "pycharm": {
     "name": "#%%\n"
    }
   },
   "execution_count": null,
   "outputs": []
  },
  {
   "cell_type": "code",
   "source": [
    "number_of_courses = dataset[1].nunique()-1\n",
    "print(number_of_courses)"
   ],
   "metadata": {
    "colab": {
     "base_uri": "https://localhost:8080/"
    },
    "id": "c7ALdGKbcGpV",
    "outputId": "ed3af619-c4f1-4ed7-ce54-a9961fcdf4e2",
    "pycharm": {
     "name": "#%%\n"
    }
   },
   "execution_count": null,
   "outputs": []
  },
  {
   "cell_type": "code",
   "source": [
    "code_of_courses = dataset[1].unique()\n",
    "code_of_courses = code_of_courses[1:]\n",
    "print(code_of_courses)"
   ],
   "metadata": {
    "colab": {
     "base_uri": "https://localhost:8080/"
    },
    "id": "jVxGdLLRLhe5",
    "outputId": "bdf3e15c-94a9-496e-c54b-8d60f676d04b",
    "pycharm": {
     "name": "#%%\n"
    }
   },
   "execution_count": null,
   "outputs": []
  },
  {
   "cell_type": "code",
   "source": [
    "number_of_student=dataset[0].nunique()\n",
    "number_of_student"
   ],
   "metadata": {
    "colab": {
     "base_uri": "https://localhost:8080/"
    },
    "id": "jbLe5usTcbV6",
    "outputId": "281be132-2579-494c-a3c2-1de894963387",
    "pycharm": {
     "name": "#%%\n"
    }
   },
   "execution_count": null,
   "outputs": []
  },
  {
   "cell_type": "code",
   "source": [
    "dataset.dropna(inplace=True)"
   ],
   "metadata": {
    "id": "lruYNrX3jwjK",
    "pycharm": {
     "name": "#%%\n"
    }
   },
   "execution_count": null,
   "outputs": []
  },
  {
   "cell_type": "code",
   "source": [
    "conflict_matrix = pd.DataFrame(np.zeros(shape=(number_of_courses,number_of_courses)),dtype = int)"
   ],
   "metadata": {
    "id": "66kCiWUSfRwZ",
    "pycharm": {
     "name": "#%%\n"
    }
   },
   "execution_count": null,
   "outputs": []
  },
  {
   "cell_type": "code",
   "source": [
    "conflict_matrix"
   ],
   "metadata": {
    "colab": {
     "base_uri": "https://localhost:8080/",
     "height": 1000
    },
    "id": "Ow0wZB9Gj3IL",
    "outputId": "cab6a020-e69e-40bb-c150-43d87a146e52",
    "pycharm": {
     "name": "#%%\n"
    }
   },
   "execution_count": null,
   "outputs": []
  },
  {
   "cell_type": "code",
   "source": [
    "index_1 = 0;\n",
    "index_2 = 0;\n",
    "for course_1 in code_of_courses:\n",
    "  number_of_student_within_course_1 = list(dataset[dataset[1] == course_1][0])\n",
    "  index_2=0\n",
    "  for course_2 in code_of_courses:\n",
    "    number_of_student_within_course_2 = list(dataset[dataset[1] == course_2][0])\n",
    "    conflict_matrix.at[index_1,index_2] = len(set(number_of_student_within_course_1)&set(number_of_student_within_course_2))\n",
    "    index_2+=1\n",
    "  index_1+=1"
   ],
   "metadata": {
    "id": "jOJA7Ussj5gG",
    "pycharm": {
     "name": "#%%\n"
    }
   },
   "execution_count": null,
   "outputs": []
  },
  {
   "cell_type": "code",
   "source": [
    " conflict_matrix"
   ],
   "metadata": {
    "colab": {
     "base_uri": "https://localhost:8080/",
     "height": 1000
    },
    "id": "Ylt_Yufc1Y11",
    "outputId": "c40d95fb-291b-47ab-952b-85440b18526d",
    "pycharm": {
     "name": "#%%\n"
    }
   },
   "execution_count": null,
   "outputs": []
  },
  {
   "cell_type": "code",
   "source": [
    "conflict_matrix_array = conflict_matrix.to_numpy()\n",
    "print(conflict_matrix_array)"
   ],
   "metadata": {
    "colab": {
     "base_uri": "https://localhost:8080/"
    },
    "id": "fx_O37_GcxEI",
    "outputId": "7575e7e0-325e-488e-8e12-cddd12fd6b62",
    "pycharm": {
     "name": "#%%\n"
    }
   },
   "execution_count": null,
   "outputs": []
  },
  {
   "cell_type": "code",
   "source": [
    "# timeslot_assignment = []\n",
    "# for i in range(0,number_of_courses):\n",
    "#   timeslot_assignment[i] = 0\n",
    "\n",
    "timeslot_assignment = [0 for i in range(number_of_courses)]\n",
    "print(len(timeslot_assignment))\n",
    "print(timeslot_assignment)"
   ],
   "metadata": {
    "colab": {
     "base_uri": "https://localhost:8080/"
    },
    "id": "-tFapF8jO-BC",
    "outputId": "86af50a4-68b1-45a4-cbd6-fe22ad03653d",
    "pycharm": {
     "name": "#%%\n"
    }
   },
   "execution_count": null,
   "outputs": []
  },
  {
   "cell_type": "code",
   "source": [
    "def is_available_slot(courseid, timeslot):\n",
    "  if timeslot not in timeslot_assignment:\n",
    "    return True\n",
    "  elif timeslot in timeslot_assignment:\n",
    "    course_slot = [idx for idx, course in enumerate(timeslot_assignment) if course == timeslot]\n",
    "    ls = []\n",
    "    for adjacent_course in course_slot:\n",
    "      ls.append(conflict_matrix_array[courseid][adjacent_course])\n",
    "    if any(ls) > 0:\n",
    "      return False\n",
    "    else:\n",
    "      return True"
   ],
   "metadata": {
    "id": "K9uTYq0HUD56",
    "pycharm": {
     "name": "#%%\n"
    }
   },
   "execution_count": null,
   "outputs": []
  },
  {
   "cell_type": "code",
   "source": [
    "for courses_index in range(0, number_of_courses):\n",
    "  for timeslot in range(1,number_of_timeslot+1):\n",
    "    if is_available_slot(courses_index, timeslot):\n",
    "      timeslot_assignment[courses_index] = timeslot\n",
    "      break"
   ],
   "metadata": {
    "id": "LZOpsF3lUG02",
    "pycharm": {
     "name": "#%%\n"
    }
   },
   "execution_count": null,
   "outputs": []
  },
  {
   "cell_type": "code",
   "source": [
    "def is_feasible(solution):\n",
    "  length_of_timeslot = len(solution)\n",
    "  score = 0\n",
    "  for i in range(length_of_timeslot - 1):\n",
    "    for j in range(length_of_timeslot - 1):\n",
    "      j+=i+1\n",
    "      if j > length_of_timeslot-1:\n",
    "        break\n",
    "      if conflict_matrix_array[i][j] != 0 and solution[i]== solution[j]:\n",
    "        return False\n",
    "    \n",
    "\n",
    "  return True\n",
    "print(is_feasible(timeslot_assignment))"
   ],
   "metadata": {
    "colab": {
     "base_uri": "https://localhost:8080/"
    },
    "id": "bNWwXmfzQesl",
    "outputId": "284ef67c-0616-4774-9f9e-4e85cb1199c8",
    "pycharm": {
     "name": "#%%\n"
    }
   },
   "execution_count": null,
   "outputs": []
  },
  {
   "cell_type": "code",
   "source": [
    "def objective_function(solution):\n",
    "  length_of_timeslot = len(solution)\n",
    "  score = 0\n",
    "  for i in range(length_of_timeslot - 1):\n",
    "    for j in range(length_of_timeslot - 1):\n",
    "      j+=i+1\n",
    "      if j > length_of_timeslot-1:\n",
    "        break\n",
    "      if solution[j] - solution[i]>=3:\n",
    "        score += 0\n",
    "      else:\n",
    "        score += 2**(solution[j]-solution[i]) * conflict_matrix_array[j][i]\n",
    "  return score/number_of_student\n",
    "\n"
   ],
   "metadata": {
    "id": "AHpsvkPxhd8S",
    "pycharm": {
     "name": "#%%\n"
    }
   },
   "execution_count": null,
   "outputs": []
  },
  {
   "cell_type": "code",
   "source": [
    "of = objective_function(timeslot_assignment)\n",
    "print(of)"
   ],
   "metadata": {
    "colab": {
     "base_uri": "https://localhost:8080/"
    },
    "id": "fdLkugAma-Om",
    "outputId": "6a13d5a9-83a8-4edf-dd54-1f99ffc0a756",
    "pycharm": {
     "name": "#%%\n"
    }
   },
   "execution_count": null,
   "outputs": []
  },
  {
   "cell_type": "code",
   "source": [
    "import random\n",
    "def create_new_solution(solution):\n",
    "  loop = False\n",
    "  while not loop:\n",
    "    random_course = random.randint(0, number_of_courses-1) \n",
    "    old_timeslot = solution[random_course]\n",
    "    random_timeslot = random.randint(1, number_of_timeslot)\n",
    "    solution[random_course] = random_timeslot\n",
    "    loop = is_feasible(solution)\n",
    "    if not loop:\n",
    "      solution[random_course] = old_timeslot     \n",
    "  return solution.copy()"
   ],
   "metadata": {
    "id": "t629zJG2XRA0",
    "pycharm": {
     "name": "#%%\n"
    }
   },
   "execution_count": null,
   "outputs": []
  },
  {
   "cell_type": "code",
   "source": [
    "num_of_iteration = 1000\n",
    "for i in range(num_of_iteration):\n",
    "  new_timeslot_assignment = create_new_solution(timeslot_assignment.copy())\n",
    "  if objective_function(new_timeslot_assignment) < objective_function(timeslot_assignment):\n",
    "    timeslot_assignment = new_timeslot_assignment.copy()\n"
   ],
   "metadata": {
    "id": "PFpjxiqRZjq-",
    "pycharm": {
     "name": "#%%\n"
    }
   },
   "execution_count": null,
   "outputs": []
  },
  {
   "cell_type": "code",
   "source": [
    "print(objective_function(timeslot_assignment))"
   ],
   "metadata": {
    "colab": {
     "base_uri": "https://localhost:8080/"
    },
    "id": "-36H5lkJc3AT",
    "outputId": "c1d20642-99c9-4910-cf88-ddf4b0629bb4",
    "pycharm": {
     "name": "#%%\n"
    }
   },
   "execution_count": null,
   "outputs": []
  },
  {
   "cell_type": "code",
   "source": [
    "print(timeslot_assignment)"
   ],
   "metadata": {
    "colab": {
     "base_uri": "https://localhost:8080/"
    },
    "id": "YuJ9MxXpkT4m",
    "outputId": "9cbd2253-4fc1-4243-adfc-3a6d22404888",
    "pycharm": {
     "name": "#%%\n"
    }
   },
   "execution_count": null,
   "outputs": []
  }
 ]
}