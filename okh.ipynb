{
 "nbformat": 4,
 "nbformat_minor": 0,
 "metadata": {
  "colab": {
   "provenance": []
  },
  "kernelspec": {
   "name": "python3",
   "display_name": "Python 3"
  },
  "language_info": {
   "name": "python"
  }
 },
 "cells": [
  {
   "cell_type": "code",
   "execution_count": null,
   "outputs": [],
   "source": [
    "import pandas as pd\n",
    "import numpy as np"
   ],
   "metadata": {
    "collapsed": false,
    "pycharm": {
     "name": "#%%\n"
    }
   }
  },
  {
   "cell_type": "code",
   "source": [
    "dataset =  pd.read_csv('course.csv', header=None)"
   ],
   "metadata": {
    "id": "buXGZe-wb4Ds",
    "pycharm": {
     "name": "#%%\n"
    }
   },
   "execution_count": null,
   "outputs": []
  },
  {
   "cell_type": "code",
   "source": [
    "dataset.head()"
   ],
   "metadata": {
    "colab": {
     "base_uri": "https://localhost:8080/",
     "height": 206
    },
    "id": "VO7qPrNicD_9",
    "outputId": "44a571d9-ea50-4371-a7cd-2cac91397ea0",
    "pycharm": {
     "name": "#%%\n"
    }
   },
   "execution_count": null,
   "outputs": []
  },
  {
   "cell_type": "code",
   "source": [
    "number_of_timeslot = dataset[0][0]\n",
    "print(number_of_timeslot)"
   ],
   "metadata": {
    "colab": {
     "base_uri": "https://localhost:8080/"
    },
    "id": "M6wMF-_GWGfu",
    "outputId": "4a7f369c-8fb7-4941-b8ca-36d6526f287a",
    "pycharm": {
     "name": "#%%\n"
    }
   },
   "execution_count": null,
   "outputs": []
  },
  {
   "cell_type": "code",
   "source": [
    "number_of_rooms = dataset[1][0]\n",
    "print(number_of_rooms)"
   ],
   "metadata": {
    "colab": {
     "base_uri": "https://localhost:8080/"
    },
    "id": "S_0dFfb9WTcj",
    "outputId": "bf7aec4c-3c3f-49c4-db5f-33a65ddd9e2c",
    "pycharm": {
     "name": "#%%\n"
    }
   },
   "execution_count": null,
   "outputs": []
  },
  {
   "cell_type": "code",
   "source": [
    "number_of_courses = dataset[1].nunique()-1\n",
    "print(number_of_courses)"
   ],
   "metadata": {
    "colab": {
     "base_uri": "https://localhost:8080/"
    },
    "id": "c7ALdGKbcGpV",
    "outputId": "c1a5c044-74f3-448a-b997-34d1b268ceb7",
    "pycharm": {
     "name": "#%%\n"
    }
   },
   "execution_count": null,
   "outputs": []
  },
  {
   "cell_type": "code",
   "source": [
    "code_of_courses = dataset[1].unique()\n",
    "code_of_courses = code_of_courses[1:]\n",
    "print(code_of_courses)"
   ],
   "metadata": {
    "colab": {
     "base_uri": "https://localhost:8080/"
    },
    "id": "jVxGdLLRLhe5",
    "outputId": "c787050a-9446-41e4-9913-66fd7e3a8565",
    "pycharm": {
     "name": "#%%\n"
    }
   },
   "execution_count": null,
   "outputs": []
  },
  {
   "cell_type": "code",
   "source": [
    "number_of_student=dataset[0].nunique()\n",
    "number_of_student"
   ],
   "metadata": {
    "colab": {
     "base_uri": "https://localhost:8080/"
    },
    "id": "jbLe5usTcbV6",
    "outputId": "1df07dc8-41a3-4f57-b28b-779d2c269846",
    "pycharm": {
     "name": "#%%\n"
    }
   },
   "execution_count": null,
   "outputs": []
  },
  {
   "cell_type": "code",
   "source": [
    "dataset.dropna(inplace=True)"
   ],
   "metadata": {
    "id": "lruYNrX3jwjK",
    "pycharm": {
     "name": "#%%\n"
    }
   },
   "execution_count": null,
   "outputs": []
  },
  {
   "cell_type": "code",
   "source": [
    "conflict_matrix = pd.DataFrame(np.zeros(shape=(number_of_courses,number_of_courses)),dtype = int)"
   ],
   "metadata": {
    "id": "66kCiWUSfRwZ",
    "pycharm": {
     "name": "#%%\n"
    }
   },
   "execution_count": null,
   "outputs": []
  },
  {
   "cell_type": "code",
   "source": [
    "conflict_matrix"
   ],
   "metadata": {
    "colab": {
     "base_uri": "https://localhost:8080/",
     "height": 1000
    },
    "id": "Ow0wZB9Gj3IL",
    "outputId": "0e826c31-fe7c-4d7d-ef2d-0f251e08025b",
    "pycharm": {
     "name": "#%%\n"
    }
   },
   "execution_count": null,
   "outputs": []
  },
  {
   "cell_type": "code",
   "source": [
    "index_1 = 0\n",
    "index_2 = 0\n",
    "for course_1 in code_of_courses:\n",
    "  number_of_student_within_course_1 = list(dataset[dataset[1] == course_1][0])\n",
    "  index_2=0\n",
    "  for course_2 in code_of_courses:\n",
    "    number_of_student_within_course_2 = list(dataset[dataset[1] == course_2][0])\n",
    "    conflict_matrix.at[index_1,index_2] = len(set(number_of_student_within_course_1)&set(number_of_student_within_course_2))\n",
    "    index_2+=1\n",
    "  index_1+=1"
   ],
   "metadata": {
    "id": "jOJA7Ussj5gG",
    "pycharm": {
     "name": "#%%\n"
    }
   },
   "execution_count": null,
   "outputs": []
  },
  {
   "cell_type": "code",
   "source": [
    " conflict_matrix"
   ],
   "metadata": {
    "colab": {
     "base_uri": "https://localhost:8080/",
     "height": 1000
    },
    "id": "Ylt_Yufc1Y11",
    "outputId": "3ba63976-7604-4c39-8812-9124a34d5ca1",
    "pycharm": {
     "name": "#%%\n"
    }
   },
   "execution_count": null,
   "outputs": []
  },
  {
   "cell_type": "code",
   "source": [
    "conflict_matrix_array = conflict_matrix.to_numpy()\n",
    "print(conflict_matrix_array)"
   ],
   "metadata": {
    "colab": {
     "base_uri": "https://localhost:8080/"
    },
    "id": "fx_O37_GcxEI",
    "outputId": "53293cef-7c88-4e17-ee0f-6ea97f74fec5",
    "pycharm": {
     "name": "#%%\n"
    }
   },
   "execution_count": null,
   "outputs": []
  },
  {
   "cell_type": "code",
   "source": [
    "# timeslot_assignment = []\n",
    "# for i in range(0,number_of_courses):\n",
    "#   timeslot_assignment[i] = 0\n",
    "\n",
    "timeslot_assignment = [0 for i in range(number_of_courses)]\n",
    "print(len(timeslot_assignment))\n",
    "print(timeslot_assignment)"
   ],
   "metadata": {
    "colab": {
     "base_uri": "https://localhost:8080/"
    },
    "id": "-tFapF8jO-BC",
    "outputId": "253fceb9-e167-4a77-8962-e0f15fa3fca6",
    "pycharm": {
     "name": "#%%\n"
    }
   },
   "execution_count": null,
   "outputs": []
  },
  {
   "cell_type": "code",
   "source": [
    "print(timeslot_assignment)"
   ],
   "metadata": {
    "id": "txKNYzEde4O9",
    "pycharm": {
     "name": "#%%\n"
    }
   },
   "execution_count": null,
   "outputs": []
  },
  {
   "cell_type": "code",
   "source": [
    "timeslot_index = 1\n",
    "\n",
    "for array in range(number_of_courses):\n",
    "  for i in range(0, array):\n",
    "      #skip adj\n",
    "      if array == 0:\n",
    "        break\n",
    "      if array == i:\n",
    "        continue\n",
    "      if conflict_matrix_array[array][i] > 0:\n",
    "        if timeslot_assignment[i] == timeslot_index:\n",
    "          # still not check with the most early array\n",
    "          timeslot_index += 1\n",
    "  timeslot_assignment[array] = timeslot_index\n",
    "  timeslot_index = 1\n",
    "\n",
    "print(timeslot_assignment)"
   ],
   "metadata": {
    "id": "hs_KSgP_fjXH",
    "pycharm": {
     "name": "#%%\n"
    }
   },
   "execution_count": null,
   "outputs": []
  },
  {
   "cell_type": "code",
   "source": [
    "#get total\n",
    "print(max(timeslot_assignment))"
   ],
   "metadata": {
    "id": "XwNHugaWjscJ",
    "pycharm": {
     "name": "#%%\n"
    }
   },
   "execution_count": null,
   "outputs": []
  },
  {
   "cell_type": "code",
   "execution_count": null,
   "outputs": [],
   "source": [
    "range(20)"
   ],
   "metadata": {
    "collapsed": false,
    "pycharm": {
     "name": "#%%\n"
    }
   }
  },
  {
   "cell_type": "code",
   "source": [
    "length_of_timeslot = len(timeslot_assignment)\n",
    "score = 0\n",
    "for i in range(length_of_timeslot-1):\n",
    "  for j in range(length_of_timeslot-1):\n",
    "    j+=i+1\n",
    "    if j > length_of_timeslot-1:\n",
    "      break\n",
    "    if timeslot_assignment[j] - timeslot_assignment[i]>=3:\n",
    "      score += 0\n",
    "    else:\n",
    "      score += 2**(timeslot_assignment[j]-timeslot_assignment[i]) * conflict_matrix_array[j][i]\n",
    "\n",
    "# lower is better\n",
    "print(score/number_of_student)"
   ],
   "metadata": {
    "id": "AHpsvkPxhd8S",
    "pycharm": {
     "name": "#%%\n"
    }
   },
   "execution_count": null,
   "outputs": []
  },
  {
   "cell_type": "code",
   "execution_count": null,
   "outputs": [],
   "source": [
    "length_of_timeslot = len(timeslot_assignment)\n",
    "score = 0\n",
    "for i in range(length_of_timeslot-1):\n",
    "  for j in range(length_of_timeslot-1):\n",
    "    j+=i+1\n",
    "    if j > length_of_timeslot-1:\n",
    "      break\n",
    "    print(i, j)"
   ],
   "metadata": {
    "collapsed": false,
    "pycharm": {
     "name": "#%%\n"
    }
   }
  },
  {
   "cell_type": "code",
   "execution_count": null,
   "outputs": [],
   "source": [
    "def isFeasible(solution):\n",
    "  length_of_course = len(solution)\n",
    "  for i in range(length_of_course-1):\n",
    "    for j in range(length_of_course-1):\n",
    "      j+=i+1\n",
    "      if j > length_of_course-1:\n",
    "        break\n",
    "\n",
    "      if conflict_matrix_array[i][j] != 0 and solution[i]==solution[j]:\n",
    "        print(conflict_matrix_array[i][j], solution[i], solution[j])\n",
    "        print(i, j)\n",
    "        return False\n",
    "\n",
    "  return True"
   ],
   "metadata": {
    "collapsed": false,
    "pycharm": {
     "name": "#%%\n"
    }
   }
  },
  {
   "cell_type": "code",
   "execution_count": null,
   "outputs": [],
   "source": [
    "isFeasible(timeslot_assignment)"
   ],
   "metadata": {
    "collapsed": false,
    "pycharm": {
     "name": "#%%\n"
    }
   }
  },
  {
   "cell_type": "code",
   "execution_count": null,
   "outputs": [],
   "source": [],
   "metadata": {
    "collapsed": false,
    "pycharm": {
     "name": "#%%\n"
    }
   }
  }
 ]
}