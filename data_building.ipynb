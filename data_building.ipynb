{
 "nbformat": 4,
 "nbformat_minor": 0,
 "metadata": {
  "colab": {
   "provenance": []
  },
  "kernelspec": {
   "name": "python3",
   "display_name": "Python 3"
  },
  "language_info": {
   "name": "python"
  }
 },
 "cells": [
  {
   "cell_type": "code",
   "execution_count": null,
   "metadata": {
    "id": "ksOxv0RUaEIf",
    "pycharm": {
     "name": "#%%\n"
    }
   },
   "outputs": [],
   "source": [
    "import pandas as pd\n",
    "import numpy as np"
   ]
  },
  {
   "cell_type": "code",
   "source": [
    "df = pd.read_csv('course.csv')"
   ],
   "metadata": {
    "id": "C_rVZmAJak3-",
    "pycharm": {
     "name": "#%%\n"
    }
   },
   "execution_count": null,
   "outputs": []
  },
  {
   "cell_type": "code",
   "source": [
    "df.head()"
   ],
   "metadata": {
    "colab": {
     "base_uri": "https://localhost:8080/",
     "height": 206
    },
    "id": "WSwYnL5uatn-",
    "outputId": "f6612c2a-66fa-4d9d-e0c4-aad7c91fc4a5",
    "pycharm": {
     "name": "#%%\n"
    }
   },
   "execution_count": null,
   "outputs": []
  },
  {
   "cell_type": "code",
   "execution_count": null,
   "outputs": [],
   "source": [
    "df['course'] = df['course'].astype('category')\n",
    "df['codes'] = df['course'].cat.codes"
   ],
   "metadata": {
    "collapsed": false,
    "pycharm": {
     "name": "#%%\n"
    }
   }
  },
  {
   "cell_type": "code",
   "execution_count": null,
   "outputs": [],
   "source": [
    "df[df.codes==0]"
   ],
   "metadata": {
    "collapsed": false,
    "pycharm": {
     "name": "#%%\n"
    }
   }
  },
  {
   "cell_type": "code",
   "execution_count": null,
   "outputs": [],
   "source": [
    "df.groupby(['course']).all()"
   ],
   "metadata": {
    "collapsed": false,
    "pycharm": {
     "name": "#%%\n"
    }
   }
  },
  {
   "cell_type": "code",
   "source": [
    "jumlah_course = df.codes.nunique()\n",
    "jumlah_course"
   ],
   "metadata": {
    "id": "1tKMfe7Vblhp",
    "pycharm": {
     "name": "#%%\n"
    }
   },
   "execution_count": null,
   "outputs": []
  },
  {
   "cell_type": "code",
   "source": [
    "df.codes.unique()"
   ],
   "metadata": {
    "colab": {
     "base_uri": "https://localhost:8080/"
    },
    "id": "RrgSV_wPcNJC",
    "outputId": "7cb73c3c-a276-42ca-902f-3ad5e33c2b0d",
    "pycharm": {
     "name": "#%%\n"
    }
   },
   "execution_count": null,
   "outputs": []
  },
  {
   "cell_type": "code",
   "source": [
    "maps = {}\n",
    "\n",
    "for index in range(len(df)):\n",
    "  # print(df['nrp'][index])\n",
    "\n",
    "  if df['nrp'][index] in maps:\n",
    "    maps[df['nrp'][index]].append(df['codes'][index])\n",
    "  else:\n",
    "    maps[df['nrp'][index]] = [df['codes'][index]]\n",
    "\n",
    "print(len(maps))"
   ],
   "metadata": {
    "colab": {
     "base_uri": "https://localhost:8080/"
    },
    "id": "zWrkdS8BcUTd",
    "outputId": "119f3e38-7349-4995-84e0-a447f0194f94",
    "pycharm": {
     "name": "#%%\n"
    }
   },
   "execution_count": null,
   "outputs": []
  },
  {
   "cell_type": "code",
   "source": [
    "print(len(maps))"
   ],
   "metadata": {
    "colab": {
     "base_uri": "https://localhost:8080/"
    },
    "id": "JqHcubwWlkSg",
    "outputId": "28a691a9-a3ff-471b-a568-b2b6a3a6162e",
    "pycharm": {
     "name": "#%%\n"
    }
   },
   "execution_count": null,
   "outputs": []
  },
  {
   "cell_type": "code",
   "execution_count": null,
   "outputs": [],
   "source": [
    "# generate array of [0,0] * 33 in a CORRECT WAY\n",
    "rows, cols = (jumlah_course, jumlah_course)\n",
    "array = [[0 for i in range(cols)] for j in range(rows)]"
   ],
   "metadata": {
    "collapsed": false,
    "pycharm": {
     "name": "#%%\n"
    }
   }
  },
  {
   "cell_type": "code",
   "execution_count": null,
   "outputs": [],
   "source": [
    "maps"
   ],
   "metadata": {
    "collapsed": false,
    "pycharm": {
     "name": "#%%\n"
    }
   }
  },
  {
   "cell_type": "code",
   "execution_count": null,
   "outputs": [],
   "source": [
    "print(array)"
   ],
   "metadata": {
    "collapsed": false,
    "pycharm": {
     "name": "#%%\n"
    }
   }
  },
  {
   "cell_type": "code",
   "source": [
    "for index in maps:\n",
    "  print(\"index\", maps[index], \"\\n\")\n",
    "  if len(maps[index])>1:\n",
    "    l, r = 0,1\n",
    "    while l < len(maps[index]):\n",
    "\n",
    "      # ketika ganti\n",
    "      if r >= len(maps[index]):\n",
    "        l = l + 1\n",
    "        r = l + 1\n",
    "        print(array[maps[index][l]])\n",
    "        print('\\n')\n",
    "\n",
    "      # ketika harus berhenti\n",
    "      if r >= len(maps[index]):\n",
    "        break\n",
    "\n",
    "      leftIndex = maps[index][l]\n",
    "      rightIndex = maps[index][r]\n",
    "\n",
    "      print(\"array[leftIndex][rightIndex]: array [\", leftIndex, \"][\", rightIndex, \"]\")\n",
    "      print(\"before :\",array[leftIndex][rightIndex])\n",
    "      array[leftIndex][rightIndex] = array[leftIndex][rightIndex]+1\n",
    "      array[rightIndex][leftIndex] = array[rightIndex][leftIndex]+1\n",
    "      print(\"after :\", array[leftIndex][rightIndex])\n",
    "      # array[maps[index][r]][maps[index][l]]+=1\n",
    "\n",
    "\n",
    "\n",
    "\n",
    "      # print(array)\n",
    "      r+=1"
   ],
   "metadata": {
    "id": "FiN1Q_hxnuOl",
    "pycharm": {
     "name": "#%%\n"
    }
   },
   "execution_count": null,
   "outputs": []
  },
  {
   "cell_type": "code",
   "execution_count": null,
   "outputs": [],
   "source": [
    "array[1][12]"
   ],
   "metadata": {
    "collapsed": false,
    "pycharm": {
     "name": "#%%\n"
    }
   }
  },
  {
   "cell_type": "code",
   "execution_count": null,
   "outputs": [],
   "source": [
    "print(array)"
   ],
   "metadata": {
    "collapsed": false,
    "pycharm": {
     "name": "#%%\n"
    }
   }
  },
  {
   "cell_type": "code",
   "execution_count": null,
   "outputs": [],
   "source": [
    "for i in array:\n",
    "  print(i)"
   ],
   "metadata": {
    "collapsed": false,
    "pycharm": {
     "name": "#%%\n"
    }
   }
  },
  {
   "cell_type": "code",
   "execution_count": null,
   "outputs": [],
   "source": [
    "np.savetxt(\"data.csv\", array, delimiter=\",\", fmt='% s')"
   ],
   "metadata": {
    "collapsed": false,
    "pycharm": {
     "name": "#%%\n"
    }
   }
  },
  {
   "cell_type": "code",
   "execution_count": null,
   "outputs": [],
   "source": [],
   "metadata": {
    "collapsed": false,
    "pycharm": {
     "name": "#%%\n"
    }
   }
  }
 ]
}