{
 "nbformat": 4,
 "nbformat_minor": 0,
 "metadata": {
  "colab": {
   "provenance": []
  },
  "kernelspec": {
   "name": "python3",
   "display_name": "Python 3"
  },
  "language_info": {
   "name": "python"
  }
 },
 "cells": [
  {
   "cell_type": "code",
   "execution_count": null,
   "metadata": {
    "id": "ksOxv0RUaEIf",
    "pycharm": {
     "name": "#%%\n"
    }
   },
   "outputs": [],
   "source": [
    "import pandas as pd\n",
    "import numpy as np"
   ]
  },
  {
   "cell_type": "code",
   "source": [
    "df = pd.read_csv('course_generic.csv', header=None)"
   ],
   "metadata": {
    "id": "C_rVZmAJak3-",
    "pycharm": {
     "name": "#%%\n"
    }
   },
   "execution_count": null,
   "outputs": []
  },
  {
   "cell_type": "code",
   "source": [
    "df.head()"
   ],
   "metadata": {
    "colab": {
     "base_uri": "https://localhost:8080/",
     "height": 206
    },
    "id": "WSwYnL5uatn-",
    "outputId": "f6612c2a-66fa-4d9d-e0c4-aad7c91fc4a5",
    "pycharm": {
     "name": "#%%\n"
    }
   },
   "execution_count": null,
   "outputs": []
  },
  {
   "cell_type": "code",
   "execution_count": null,
   "outputs": [],
   "source": [
    "number_of_timeslots = int(df[0][0])\n",
    "number_of_rooms = int(df[1][0])\n",
    "print(number_of_timeslots, number_of_rooms)"
   ],
   "metadata": {
    "collapsed": false,
    "pycharm": {
     "name": "#%%\n"
    }
   }
  },
  {
   "cell_type": "code",
   "execution_count": null,
   "outputs": [],
   "source": [
    "df = df.drop(0)\n",
    "df.head()"
   ],
   "metadata": {
    "collapsed": false,
    "pycharm": {
     "name": "#%%\n"
    }
   }
  },
  {
   "cell_type": "code",
   "execution_count": null,
   "outputs": [],
   "source": [
    "df[1] = df[1].astype('category')\n",
    "df['course_unique_codes'] = df[1].cat.codes"
   ],
   "metadata": {
    "collapsed": false,
    "pycharm": {
     "name": "#%%\n"
    }
   }
  },
  {
   "cell_type": "code",
   "execution_count": null,
   "outputs": [],
   "source": [
    "df[df['course_unique_codes']==0]"
   ],
   "metadata": {
    "collapsed": false,
    "pycharm": {
     "name": "#%%\n"
    }
   }
  },
  {
   "cell_type": "code",
   "execution_count": null,
   "outputs": [],
   "source": [
    "df[[1, 'course_unique_codes']].groupby(1).mean()"
   ],
   "metadata": {
    "collapsed": false,
    "pycharm": {
     "name": "#%%\n"
    }
   }
  },
  {
   "cell_type": "code",
   "source": [
    "jumlah_course = df['course_unique_codes'].nunique()\n",
    "jumlah_course"
   ],
   "metadata": {
    "id": "1tKMfe7Vblhp",
    "pycharm": {
     "name": "#%%\n"
    }
   },
   "execution_count": null,
   "outputs": []
  },
  {
   "cell_type": "code",
   "source": [
    "df['course_unique_codes'].unique()"
   ],
   "metadata": {
    "colab": {
     "base_uri": "https://localhost:8080/"
    },
    "id": "RrgSV_wPcNJC",
    "outputId": "7cb73c3c-a276-42ca-902f-3ad5e33c2b0d",
    "pycharm": {
     "name": "#%%\n"
    }
   },
   "execution_count": null,
   "outputs": []
  },
  {
   "cell_type": "code",
   "execution_count": null,
   "outputs": [],
   "source": [
    "len(df)"
   ],
   "metadata": {
    "collapsed": false,
    "pycharm": {
     "name": "#%%\n"
    }
   }
  },
  {
   "cell_type": "code",
   "execution_count": null,
   "outputs": [],
   "source": [
    "df = df.reset_index()"
   ],
   "metadata": {
    "collapsed": false,
    "pycharm": {
     "name": "#%%\n"
    }
   }
  },
  {
   "cell_type": "code",
   "source": [
    "maps = {}\n",
    "\n",
    "for index in range(len(df)):\n",
    "  # print(df[0][index])\n",
    "\n",
    "  if df[0][index] in maps:\n",
    "    maps[df[0][index]].append(df['course_unique_codes'][index])\n",
    "  else:\n",
    "    maps[df[0][index]] = [df['course_unique_codes'][index]]\n",
    "\n",
    "print(len(maps))"
   ],
   "metadata": {
    "colab": {
     "base_uri": "https://localhost:8080/"
    },
    "id": "zWrkdS8BcUTd",
    "outputId": "119f3e38-7349-4995-84e0-a447f0194f94",
    "pycharm": {
     "name": "#%%\n"
    }
   },
   "execution_count": null,
   "outputs": []
  },
  {
   "cell_type": "code",
   "source": [
    "print(len(maps))"
   ],
   "metadata": {
    "colab": {
     "base_uri": "https://localhost:8080/"
    },
    "id": "JqHcubwWlkSg",
    "outputId": "28a691a9-a3ff-471b-a568-b2b6a3a6162e",
    "pycharm": {
     "name": "#%%\n"
    }
   },
   "execution_count": null,
   "outputs": []
  },
  {
   "cell_type": "code",
   "execution_count": null,
   "outputs": [],
   "source": [
    "# generate conflict_matrix of [0,0] * 33 in a CORRECT WAY\n",
    "rows, cols = (jumlah_course, jumlah_course)\n",
    "conflict_matrix = [[0 for i in range(cols)] for j in range(rows)]"
   ],
   "metadata": {
    "collapsed": false,
    "pycharm": {
     "name": "#%%\n"
    }
   }
  },
  {
   "cell_type": "code",
   "execution_count": null,
   "outputs": [],
   "source": [
    "maps"
   ],
   "metadata": {
    "collapsed": false,
    "pycharm": {
     "name": "#%%\n"
    }
   }
  },
  {
   "cell_type": "code",
   "execution_count": null,
   "outputs": [],
   "source": [
    "print(conflict_matrix)"
   ],
   "metadata": {
    "collapsed": false,
    "pycharm": {
     "name": "#%%\n"
    }
   }
  },
  {
   "cell_type": "code",
   "source": [
    "for index in maps:\n",
    "  print(\"index\", maps[index], \"\\n\")\n",
    "  if len(maps[index])>1:\n",
    "    l, r = 0,1\n",
    "    while l < len(maps[index]):\n",
    "\n",
    "      # ketika ganti\n",
    "      if r >= len(maps[index]):\n",
    "        l = l + 1\n",
    "        r = l + 1\n",
    "        print(conflict_matrix[maps[index][l]])\n",
    "        print('\\n')\n",
    "\n",
    "      # ketika harus berhenti\n",
    "      if r >= len(maps[index]):\n",
    "        break\n",
    "\n",
    "      leftIndex = maps[index][l]\n",
    "      rightIndex = maps[index][r]\n",
    "\n",
    "      print(\"conflict_matrix[leftIndex][rightIndex]: conflict_matrix [\", leftIndex, \"][\", rightIndex, \"]\")\n",
    "      print(\"before :\",conflict_matrix[leftIndex][rightIndex])\n",
    "      conflict_matrix[leftIndex][rightIndex] = conflict_matrix[leftIndex][rightIndex]+1\n",
    "      conflict_matrix[rightIndex][leftIndex] = conflict_matrix[rightIndex][leftIndex]+1\n",
    "      print(\"after :\", conflict_matrix[leftIndex][rightIndex])\n",
    "      # conflict_matrix[maps[index][r]][maps[index][l]]+=1\n",
    "\n",
    "\n",
    "\n",
    "\n",
    "      # print(conflict_matrix)\n",
    "      r+=1"
   ],
   "metadata": {
    "id": "FiN1Q_hxnuOl",
    "pycharm": {
     "name": "#%%\n"
    }
   },
   "execution_count": null,
   "outputs": []
  },
  {
   "cell_type": "code",
   "execution_count": null,
   "outputs": [],
   "source": [
    "conflict_matrix[1][12]"
   ],
   "metadata": {
    "collapsed": false,
    "pycharm": {
     "name": "#%%\n"
    }
   }
  },
  {
   "cell_type": "code",
   "execution_count": null,
   "outputs": [],
   "source": [
    "print(conflict_matrix)"
   ],
   "metadata": {
    "collapsed": false,
    "pycharm": {
     "name": "#%%\n"
    }
   }
  },
  {
   "cell_type": "code",
   "execution_count": null,
   "outputs": [],
   "source": [
    "for i in conflict_matrix:\n",
    "  print(i)"
   ],
   "metadata": {
    "collapsed": false,
    "pycharm": {
     "name": "#%%\n"
    }
   }
  },
  {
   "cell_type": "code",
   "execution_count": null,
   "outputs": [],
   "source": [
    "np.savetxt(\"data_generic.csv\", conflict_matrix, delimiter=\",\", fmt='% s')"
   ],
   "metadata": {
    "collapsed": false,
    "pycharm": {
     "name": "#%%\n"
    }
   }
  },
  {
   "cell_type": "markdown",
   "source": [
    "# Graph Coloring"
   ],
   "metadata": {
    "collapsed": false,
    "pycharm": {
     "name": "#%% md\n"
    }
   }
  },
  {
   "cell_type": "code",
   "execution_count": null,
   "outputs": [],
   "source": [
    "timeslot_assignment = [0 for i in range(jumlah_course)]\n",
    "print(timeslot_assignment)"
   ],
   "metadata": {
    "collapsed": false,
    "pycharm": {
     "name": "#%%\n"
    }
   }
  },
  {
   "cell_type": "code",
   "execution_count": null,
   "outputs": [],
   "source": [
    "for course_index in range(jumlah_course):\n",
    "  if !is_available(course_index):\n",
    "\n",
    "  else:\n",
    "    timeslot_assignment[course_index] = 0\n",
    "  for timeslot_index in range(time)"
   ],
   "metadata": {
    "collapsed": false,
    "pycharm": {
     "name": "#%%\n"
    }
   }
  },
  {
   "cell_type": "code",
   "execution_count": null,
   "outputs": [],
   "source": [
    "def is_available(course_index):\n",
    "  while\n",
    "  if timeslot_assignment[course_index] tabrakan dengan adjacent"
   ],
   "metadata": {
    "collapsed": false,
    "pycharm": {
     "name": "#%%\n"
    }
   }
  }
 ]
}